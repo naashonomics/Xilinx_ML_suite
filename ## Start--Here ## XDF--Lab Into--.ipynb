{
 "cells": [
  {
   "cell_type": "markdown",
   "metadata": {},
   "source": [
    "# 2018 XDF Hand's On Lab for Xilinx ML Suite \n",
    "\n",
    "## Introduction \n",
    "Welcome Xilinx's ML Suite Lab at XDF. By completing this lab, you will gain valuable hands on experience in using the Xilinx ML Suite. This lab covers how to use Python APIs to deploy the included models, as well as how to compile and quantize custom models with the xfDNN Python tools.\n",
    "\n",
    "The Lab is divided into three parts:    \n",
    "**Part 1:** Using the xfDNN Compiler  \n",
    "**Part 2:** Using the xfDNN Quantizer to recalibrate models   \n",
    "**Part 3:** Putting it all together: Compile, Quantize and Deploy   \n",
    "\n",
    "For more information on the ML Suite please visit [Xilinx.com/ml][]\n",
    "\n",
    "To use the Xilinx ML Suite for your own applications, please visit our [Github][]\n",
    "\n",
    "Are you new to Jupyter Notebooks? Learn more here:  \n",
    "[Basic Tutorial][]   \n",
    "[Advanced Features][]    \n",
    "\n",
    "Ready? Follow the link to start Part 1: \n",
    "## [**Part 1:** Using the xfDNN Compiler ][] \n",
    "\n",
    "\n",
    "\n",
    "[Github]: https://github.com/Xilinx/ml-suite\n",
    "[**Part 1:** Using the xfDNN Compiler ]: compiler_caffe.ipynb\n",
    "[Xilinx.com/ml]: https://www.xilinx.com/ml\n",
    "\n",
    "\n",
    "[Basic Tutorial]: https://github.com/Xilinx/PYNQ/blob/master/docs/source/jupyter_notebooks.ipynb\n",
    "[Advanced Features]: https://github.com/Xilinx/PYNQ/blob/master/docs/source/jupyter_notebooks_advanced_features.ipynb\n"
   ]
  }
 ],
 "metadata": {
  "kernelspec": {
   "display_name": "Python 2",
   "language": "python",
   "name": "python2"
  },
  "language_info": {
   "codemirror_mode": {
    "name": "ipython",
    "version": 2
   },
   "file_extension": ".py",
   "mimetype": "text/x-python",
   "name": "python",
   "nbconvert_exporter": "python",
   "pygments_lexer": "ipython2",
   "version": "2.7.15"
  }
 },
 "nbformat": 4,
 "nbformat_minor": 2
}
